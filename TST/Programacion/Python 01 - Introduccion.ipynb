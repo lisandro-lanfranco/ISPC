{
 "cells": [
  {
   "cell_type": "markdown",
   "id": "fe7317bc",
   "metadata": {},
   "source": [
    "![Logo ISPC](figs/logo_ispc.png)\n",
    "\n",
    "## Programacion\n",
    "\n",
    "### Introducción\n",
    "\n",
    "Sabemos que una Computadora es una Máquina electrónica capaz de realizar un tratamiento automático de la información y de resolver con gran rapidez problemas matemáticos y lógicos mediante programas informáticos.\n",
    "\n",
    "Las partes de una Computadora las podemos ver en el siguiente esquema:\n",
    "\n",
    "![CPU](figs/cpu.png)\n",
    "\n",
    "* La memoria almacena la información en un formato lógico consistente que pueden ser instrucciones y datos.\n",
    "* La ALU, unidad aritmética y lógica, ejecuta todas las funciones aritméticas y lógicas como adición, sustracción, etc.\n",
    "* La unidad de control, dirige y supervisa la operación general de la computadora. Además controla la ejecución de todas las instrucciones.\n",
    "\n",
    "Las secuencias de instrucciones que el ordenador puede ejecutar reciben el nombre de programas en código de máquina.\n",
    "\n",
    "### Ejemplo de Hola Mundo en Código Máquina para x86 😣️\n",
    "\n",
    "![Hola_mundo_X86](figs/hola_mundo_x86.png)\n",
    "\n",
    "Un **algoritmo** es una secuencia de instrucciones orientada a la consecución de un objetivo.\n",
    "\n",
    "Un **programa de computadora** está compuesto por uno o varios algoritmos.\n",
    "\n",
    "Los algoritmos son independientes del lenguaje de programación. Describen un procedimiento que puedes implementar en cualquier lenguaje de programación de propósito general o, incluso, que puedes ejecutar a mano.\n",
    "\n",
    "Los programas deben estar escritos en un lenguaje prediseñado para que los interprete una computadora.\n",
    "\n",
    "En este curso aprenderemos a programar en Lenguaje Python, el cual tiene un \"traductor\" mientras se ejecuta que convierte las instrucciones de Python a Código Máquina.\n",
    "\n",
    "### Ejemplo de Hola Mundo en Python 🤩️"
   ]
  },
  {
   "cell_type": "code",
   "execution_count": 1,
   "id": "9cf8575a",
   "metadata": {},
   "outputs": [
    {
     "name": "stdout",
     "output_type": "stream",
     "text": [
      "Hola mundo\n"
     ]
    }
   ],
   "source": [
    "print(\"Hola mundo\")"
   ]
  },
  {
   "cell_type": "markdown",
   "id": "da153007",
   "metadata": {},
   "source": [
    "## Python \n",
    "\n",
    "Python es un lenguaje de alto nivel de programación interpretado cuya filosofía hace hincapié en la legibilidad de su código, se utiliza para desarrollar aplicaciones de todo tipo, ejemplos: Instagram, Netflix, Spotify, Panda 3D, entre otros.\n",
    "\n",
    "Se trata de un lenguaje de programación multiparadigma, ya que soporta programación imperativa, programación funcional y la orientación a objetos.\n",
    "\n",
    "Es un lenguaje interpretado y multiplataforma."
   ]
  },
  {
   "cell_type": "markdown",
   "id": "b65a1621",
   "metadata": {},
   "source": [
    "## Operadores Matemáticos\n",
    "\n",
    "| **Operador** | **Operacion**   | **Ejemplo**   |\n",
    "|--------------|-----------------|---------------|\n",
    "| +            | Suma            | 2 + 3 = 5     |\n",
    "| -            | Resta           | 5 - 2 = 3     |\n",
    "| *            | Multiplicación  | 2 * 5 = 10    |\n",
    "| /            | División        | 10 / 3 = 3.33 |\n",
    "| //           | División Entera | 10 // 3 = 3   |\n",
    "| %            | Resto           | 10 % 3 = 1    |\n",
    "| **           | Exponente       | 2 ** 3 = 8    |\n",
    "\n",
    "Ordenados desde la menor al mayor orden de evaluación."
   ]
  },
  {
   "cell_type": "code",
   "execution_count": 2,
   "id": "8e050571",
   "metadata": {},
   "outputs": [
    {
     "data": {
      "text/plain": [
       "22"
      ]
     },
     "execution_count": 2,
     "metadata": {},
     "output_type": "execute_result"
    }
   ],
   "source": [
    "21+3//3"
   ]
  },
  {
   "cell_type": "markdown",
   "id": "be8a9daa",
   "metadata": {},
   "source": [
    "## Variables\n",
    "\n",
    "Las variables son contenedores que almacenan información de manera temporal en la memoria del programa para poder usarlos posteriormente. El tipo y tamaño de la variable está definido por el tipo de información que debe almacenar.\n",
    "\n"
   ]
  },
  {
   "cell_type": "code",
   "execution_count": 3,
   "id": "9bb0bc53",
   "metadata": {},
   "outputs": [
    {
     "data": {
      "text/plain": [
       "'Hola, vamos a estudiar Python'"
      ]
     },
     "execution_count": 3,
     "metadata": {},
     "output_type": "execute_result"
    }
   ],
   "source": [
    "mensaje = 'Hola, vamos a estudiar Python'\n",
    "mensaje"
   ]
  },
  {
   "cell_type": "markdown",
   "id": "d0a160b6",
   "metadata": {},
   "source": [
    " ## Tipos de datos\n",
    " \n",
    " | **Data Type**       | **Ejemplo**                        |\n",
    "|---------------------|------------------------------------|\n",
    "| Integer             | -1, 0, 1, 300, 523                 |\n",
    "| Float-point Numbers | -1.23, 0.0, 3.141593               |\n",
    "| Strings             | 'a', 'aaa', 'Hola', 'Tengo 3 mascotas' |"
   ]
  },
  {
   "cell_type": "code",
   "execution_count": 4,
   "id": "17573429",
   "metadata": {},
   "outputs": [
    {
     "data": {
      "text/plain": [
       "41"
      ]
     },
     "execution_count": 4,
     "metadata": {},
     "output_type": "execute_result"
    }
   ],
   "source": [
    "numero = 39\n",
    "numero = numero + 2\n",
    "numero"
   ]
  },
  {
   "cell_type": "code",
   "execution_count": 5,
   "id": "ad1b8e40",
   "metadata": {},
   "outputs": [],
   "source": [
    "frase = 'Hola'"
   ]
  },
  {
   "cell_type": "markdown",
   "id": "0c5a799c",
   "metadata": {},
   "source": [
    "## Mostrando información\n",
    "\n",
    "Para mostrar información "
   ]
  },
  {
   "cell_type": "code",
   "execution_count": 6,
   "id": "e758cc7f",
   "metadata": {},
   "outputs": [
    {
     "name": "stdout",
     "output_type": "stream",
     "text": [
      "Hola Mundo!\n"
     ]
    }
   ],
   "source": [
    " print('Hola Mundo!')"
   ]
  },
  {
   "cell_type": "code",
   "execution_count": 7,
   "id": "ee4ce621",
   "metadata": {
    "scrolled": true
   },
   "outputs": [
    {
     "name": "stdout",
     "output_type": "stream",
     "text": [
      "Hola Mundo!\n"
     ]
    }
   ],
   "source": [
    "print(frase + ' Mundo!')"
   ]
  },
  {
   "cell_type": "code",
   "execution_count": 8,
   "id": "b9cb4104",
   "metadata": {},
   "outputs": [
    {
     "name": "stdout",
     "output_type": "stream",
     "text": [
      "Hola Mundo!\n"
     ]
    },
    {
     "ename": "TypeError",
     "evalue": "can only concatenate str (not \"int\") to str",
     "output_type": "error",
     "traceback": [
      "\u001b[0;31m---------------------------------------------------------------------------\u001b[0m",
      "\u001b[0;31mTypeError\u001b[0m                                 Traceback (most recent call last)",
      "Input \u001b[0;32mIn [8]\u001b[0m, in \u001b[0;36m<module>\u001b[0;34m\u001b[0m\n\u001b[1;32m      1\u001b[0m \u001b[38;5;28mprint\u001b[39m(frase \u001b[38;5;241m+\u001b[39m \u001b[38;5;124m'\u001b[39m\u001b[38;5;124m Mundo!\u001b[39m\u001b[38;5;124m'\u001b[39m)\n\u001b[0;32m----> 2\u001b[0m \u001b[38;5;28mprint\u001b[39m(\u001b[38;5;124;43m'\u001b[39;49m\u001b[38;5;124;43mMi edad es \u001b[39;49m\u001b[38;5;124;43m'\u001b[39;49m\u001b[43m \u001b[49m\u001b[38;5;241;43m+\u001b[39;49m\u001b[43m \u001b[49m\u001b[43mnumero\u001b[49m \u001b[38;5;241m+\u001b[39m \u001b[38;5;124m'\u001b[39m\u001b[38;5;124maños\u001b[39m\u001b[38;5;124m'\u001b[39m)\n",
      "\u001b[0;31mTypeError\u001b[0m: can only concatenate str (not \"int\") to str"
     ]
    }
   ],
   "source": [
    "print(frase + ' Mundo!')\n",
    "print('Mi edad es ' + numero + 'años') #Esta linea dará un error"
   ]
  },
  {
   "cell_type": "markdown",
   "id": "2959047a",
   "metadata": {},
   "source": [
    "## Ingresando Información\n",
    "\n",
    "A medida que se ejecuta el programa, podemos pedirle al usuario que ingrese información y la guardamos en una variable.\n",
    "\n",
    "Para esto usaremos la función input()"
   ]
  },
  {
   "cell_type": "code",
   "execution_count": 9,
   "id": "2a97377c",
   "metadata": {},
   "outputs": [
    {
     "name": "stdout",
     "output_type": "stream",
     "text": [
      "Ingresa tu edad39\n"
     ]
    }
   ],
   "source": [
    "edad = input('Ingresa tu edad')"
   ]
  },
  {
   "cell_type": "code",
   "execution_count": 10,
   "id": "ce5eece6",
   "metadata": {},
   "outputs": [
    {
     "name": "stdout",
     "output_type": "stream",
     "text": [
      "39\n"
     ]
    }
   ],
   "source": [
    "print(edad)"
   ]
  },
  {
   "cell_type": "code",
   "execution_count": 11,
   "id": "29b470cc",
   "metadata": {},
   "outputs": [
    {
     "data": {
      "text/plain": [
       "str"
      ]
     },
     "execution_count": 11,
     "metadata": {},
     "output_type": "execute_result"
    }
   ],
   "source": [
    "type(edad)"
   ]
  },
  {
   "cell_type": "code",
   "execution_count": 12,
   "id": "742c0b49",
   "metadata": {},
   "outputs": [
    {
     "name": "stdout",
     "output_type": "stream",
     "text": [
      "Mi edad es 39 años\n"
     ]
    }
   ],
   "source": [
    "print('Mi edad es ' + edad + ' años')"
   ]
  },
  {
   "cell_type": "markdown",
   "id": "461ede43",
   "metadata": {},
   "source": [
    "## Ejercicios\n",
    "\n",
    "1. Cargar este Notebook en GitHub y luego ejecutarlo en la plataforma https://mybinder.org/\n",
    "2. Arreglar la celda que tiene un error de concatenacion \"print('Mi edad es ' + numero + 'años')\"\n",
    "\n",
    "Nota: deben ejecutar desde el principio para que las celdas guarden los valores correspondientes en las variables.\n",
    "\n",
    "Pueden (y es deseable que lo hagan) explorar cambiando valores en las celdas ejecutables. Las tablas incluidas en este Notebook tienen mucha info para que nos animemos a investigar.\n",
    "\n",
    "Autor: Ing. Lisandro Lanfranco"
   ]
  },
  {
   "cell_type": "markdown",
   "id": "ad330be6",
   "metadata": {},
   "source": [
    "## Fuentes:\n",
    "\n",
    "https://es.wikipedia.org/wiki/Python\n",
    "\n",
    "https://www.pythoncheatsheet.org/\n",
    "\n",
    "https://www.tablesgenerator.com/markdown_tables"
   ]
  },
  {
   "cell_type": "code",
   "execution_count": null,
   "id": "cdf5a807",
   "metadata": {},
   "outputs": [],
   "source": []
  }
 ],
 "metadata": {
  "kernelspec": {
   "display_name": "Python 3 (ipykernel)",
   "language": "python",
   "name": "python3"
  },
  "language_info": {
   "codemirror_mode": {
    "name": "ipython",
    "version": 3
   },
   "file_extension": ".py",
   "mimetype": "text/x-python",
   "name": "python",
   "nbconvert_exporter": "python",
   "pygments_lexer": "ipython3",
   "version": "3.8.10"
  }
 },
 "nbformat": 4,
 "nbformat_minor": 5
}
