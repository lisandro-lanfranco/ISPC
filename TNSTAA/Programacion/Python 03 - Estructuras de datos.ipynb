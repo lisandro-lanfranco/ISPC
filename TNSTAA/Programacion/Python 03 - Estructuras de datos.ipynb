{
 "cells": [
  {
   "cell_type": "markdown",
   "id": "fe7317bc",
   "metadata": {},
   "source": [
    "![Encabezado](figs/encabezado.png)"
   ]
  },
  {
   "cell_type": "markdown",
   "id": "267b9e58",
   "metadata": {},
   "source": [
    "# Estructuras de datos\n",
    "\n",
    "Las estructuras de datos sirven para almacenar información y manipularla luego.\n",
    "\n",
    "En Python tenemos tres tipos:\n",
    "* Listas\n",
    "* Tuplas\n",
    "* Diccionarios"
   ]
  },
  {
   "cell_type": "markdown",
   "id": "f3d4baf4",
   "metadata": {},
   "source": [
    "## Listas\n",
    "\n",
    "Una lista es un conjunto ordenado de objetos. Por objetos entendemos cualquiera de los tipos de dato ya mencionados, incluso otras listas.\n",
    "\n",
    "Para crear una lista, especificamos sus elementos entre corchetes y separados por comas."
   ]
  },
  {
   "cell_type": "code",
   "execution_count": 1,
   "id": "3e07f2cc",
   "metadata": {},
   "outputs": [
    {
     "data": {
      "text/plain": [
       "['Toyota', 'Ford', 'Fiat', 'Chevrlet']"
      ]
     },
     "execution_count": 1,
     "metadata": {},
     "output_type": "execute_result"
    }
   ],
   "source": [
    "#Indicamos los elementos entre corchetes\n",
    "marcas = [\"Toyota\", \"Ford\", \"Fiat\", \"Chevrlet\"]\n",
    "marcas"
   ]
  },
  {
   "cell_type": "markdown",
   "id": "c60b87f0",
   "metadata": {},
   "source": [
    "Una lista es una colección ordenada, se puede acceder a cada uno de sus elementos indicando su posición comenzando por 0."
   ]
  },
  {
   "cell_type": "code",
   "execution_count": 2,
   "id": "d33f6941",
   "metadata": {},
   "outputs": [
    {
     "data": {
      "text/plain": [
       "'Fiat'"
      ]
     },
     "execution_count": 2,
     "metadata": {},
     "output_type": "execute_result"
    }
   ],
   "source": [
    "marcas[2]"
   ]
  },
  {
   "cell_type": "markdown",
   "id": "30c9afdc",
   "metadata": {},
   "source": [
    "y podemos acceder a una porción de la lista desde el índice de inicio hasta el índice de fin indicados, en caso de ser omitido, se toma desde el extremo.\n",
    "\n",
    "``+--------+------+------+----------+  \n",
    " | Toyota | Ford | Fiat | Chevrlet |  \n",
    " +--------+------+------+----------+  \n",
    " 0        1      2      3          4  \n",
    "-4       -3     -2     -1          0``"
   ]
  },
  {
   "cell_type": "code",
   "execution_count": 3,
   "id": "f83276a6",
   "metadata": {},
   "outputs": [
    {
     "data": {
      "text/plain": [
       "['Ford', 'Fiat']"
      ]
     },
     "execution_count": 3,
     "metadata": {},
     "output_type": "execute_result"
    }
   ],
   "source": [
    "marcas[1:3]"
   ]
  },
  {
   "cell_type": "code",
   "execution_count": 4,
   "id": "26269d8b",
   "metadata": {},
   "outputs": [
    {
     "data": {
      "text/plain": [
       "['Ford', 'Fiat', 'Chevrlet']"
      ]
     },
     "execution_count": 4,
     "metadata": {},
     "output_type": "execute_result"
    }
   ],
   "source": [
    "marcas[1:]"
   ]
  },
  {
   "cell_type": "markdown",
   "id": "a68d7824",
   "metadata": {},
   "source": [
    "Podemos modificar un elemento indicando su índice y asignando un nuevo valor:"
   ]
  },
  {
   "cell_type": "code",
   "execution_count": 5,
   "id": "ec1d14c5",
   "metadata": {},
   "outputs": [
    {
     "data": {
      "text/plain": [
       "['Toyota', 'Ford', 'Fiat', 'Chevrolet']"
      ]
     },
     "execution_count": 5,
     "metadata": {},
     "output_type": "execute_result"
    }
   ],
   "source": [
    "marcas[3] = \"Chevrolet\"\n",
    "marcas"
   ]
  },
  {
   "cell_type": "code",
   "execution_count": 6,
   "id": "cb1edbe9",
   "metadata": {},
   "outputs": [
    {
     "data": {
      "text/plain": [
       "['Ford', 'Volkswagen', 'Fiat', 'Chevrolet', 'Renault']"
      ]
     },
     "execution_count": 6,
     "metadata": {},
     "output_type": "execute_result"
    }
   ],
   "source": [
    "#Eliminar un elemento\n",
    "del marcas[0]\n",
    "#Insertar un elemento, se indica la posición y el contenido\n",
    "marcas.insert(1, \"Volkswagen\")\n",
    "#Agregar un elemento al final\n",
    "marcas.append(\"Renault\")\n",
    "marcas"
   ]
  },
  {
   "cell_type": "markdown",
   "id": "94cedfdd",
   "metadata": {},
   "source": [
    "## Tuplas\n",
    "\n",
    "Una tupla es una colección de elementos, pero a diferencia de las listas, las tuplas son **inmutables**."
   ]
  },
  {
   "cell_type": "code",
   "execution_count": 7,
   "id": "b675698d",
   "metadata": {},
   "outputs": [
    {
     "data": {
      "text/plain": [
       "('Español', 'Inglés', 'Alemán', 'Portugués')"
      ]
     },
     "execution_count": 7,
     "metadata": {},
     "output_type": "execute_result"
    }
   ],
   "source": [
    "# Indicamos los elementos entre paréntesis.\n",
    "lenguajes = (\"Español\", \"Inglés\", \"Alemán\", \"Portugués\")\n",
    "lenguajes"
   ]
  },
  {
   "cell_type": "code",
   "execution_count": 8,
   "id": "db8190a6",
   "metadata": {},
   "outputs": [
    {
     "ename": "AttributeError",
     "evalue": "'tuple' object has no attribute 'insert'",
     "output_type": "error",
     "traceback": [
      "\u001b[0;31m---------------------------------------------------------------------------\u001b[0m",
      "\u001b[0;31mAttributeError\u001b[0m                            Traceback (most recent call last)",
      "Input \u001b[0;32mIn [8]\u001b[0m, in \u001b[0;36m<module>\u001b[0;34m\u001b[0m\n\u001b[0;32m----> 1\u001b[0m \u001b[43mlenguajes\u001b[49m\u001b[38;5;241;43m.\u001b[39;49m\u001b[43minsert\u001b[49m(\u001b[38;5;241m1\u001b[39m,\u001b[38;5;124m\"\u001b[39m\u001b[38;5;124mChino\u001b[39m\u001b[38;5;124m\"\u001b[39m)\n",
      "\u001b[0;31mAttributeError\u001b[0m: 'tuple' object has no attribute 'insert'"
     ]
    }
   ],
   "source": [
    "lenguajes.insert(1,\"Chino\")"
   ]
  },
  {
   "cell_type": "markdown",
   "id": "f1ad2ed5",
   "metadata": {},
   "source": [
    "## Diccionarios\n",
    "\n",
    "Los diccionarios, a diferencia de las listas y las tuplas, son colecciones **no ordenadas** de objetos. Además, sus elementos tienen una particularidad: siempre conforman un par clave-valor.\n",
    "\n",
    "Para crear un diccionario, indicamos los pares clave-valor separados por comas y estos, a su vez, separados por dos puntos."
   ]
  },
  {
   "cell_type": "code",
   "execution_count": 9,
   "id": "8a6e98e0",
   "metadata": {},
   "outputs": [
    {
     "data": {
      "text/plain": [
       "{'Toyota': 'Etios', 'Ford': 'Focus', 'Fiat': 'Chronos', 'Chevrolet': 'Onix'}"
      ]
     },
     "execution_count": 9,
     "metadata": {},
     "output_type": "execute_result"
    }
   ],
   "source": [
    "automoviles = {\"Toyota\":\"Etios\", \"Ford\":\"Focus\", \"Fiat\":\"Chronos\", \"Chevrolet\":\"Onix\" }\n",
    "automoviles"
   ]
  },
  {
   "cell_type": "markdown",
   "id": "e6438745",
   "metadata": {},
   "source": [
    "Para acceder a un elemento, se debe indicar su clave."
   ]
  },
  {
   "cell_type": "code",
   "execution_count": 10,
   "id": "2563ff11",
   "metadata": {},
   "outputs": [
    {
     "data": {
      "text/plain": [
       "'Etios'"
      ]
     },
     "execution_count": 10,
     "metadata": {},
     "output_type": "execute_result"
    }
   ],
   "source": [
    "automoviles[\"Toyota\"]"
   ]
  },
  {
   "cell_type": "code",
   "execution_count": 11,
   "id": "83ede568",
   "metadata": {},
   "outputs": [
    {
     "name": "stdout",
     "output_type": "stream",
     "text": [
      "{'Ford': 'Focus', 'Fiat': 'Uno', 'Chevrolet': 'Onix', 'Volkswagen': 'Bora'}\n"
     ]
    }
   ],
   "source": [
    "# Añadir un par clave/valor.\n",
    "automoviles[\"Volkswagen\"] = \"Bora\"\n",
    "# Modificar uno existente.\n",
    "automoviles[\"Fiat\"] = \"Uno\"\n",
    "# Eliminar.\n",
    "del automoviles[\"Toyota\"]\n",
    "print(automoviles)"
   ]
  },
  {
   "cell_type": "markdown",
   "id": "fffc1a1b",
   "metadata": {},
   "source": [
    "## Tabla Resumen\n",
    "\n",
    "|                        | **Tupla**                             | **Lista**                            | **Diccionario**                                                         |\n",
    "|------------------------|---------------------------------------|--------------------------------------|-------------------------------------------------------------------------|\n",
    "| **Definicion**         | mi_tupla = ('texto', <br>20, 1275.48) | mi_lista = ['texto', 20,<br> 127.48] | mi_dict = {'clave uno':'texto',<br>'clave dos':20, 'clave tres':1275.48 |\n",
    "| **Obtener valores**    | print mi_tupla[1]<br>#imprime 20      | print mi_lista[1]<br>#imprime 20     | print mi_dict['clave dos']<br>#imprime 20                               |\n",
    "| **Modificar un valor** | <span style=\"color:red\">**No se puede**</span>                           | mi_lista[0] = 'modificado'           | mi_dict['clave dos'] = 34                                               |"
   ]
  },
  {
   "cell_type": "markdown",
   "id": "4d879028",
   "metadata": {},
   "source": [
    "## Operaciones comunes\n",
    "\n",
    "Veremos algunas operaciones útiles para trabajar con colecciones."
   ]
  },
  {
   "cell_type": "code",
   "execution_count": 12,
   "id": "ce7c5352",
   "metadata": {},
   "outputs": [
    {
     "data": {
      "text/plain": [
       "5"
      ]
     },
     "execution_count": 12,
     "metadata": {},
     "output_type": "execute_result"
    }
   ],
   "source": [
    "# len() retorna el número de elementos en una colección\n",
    "len(marcas)"
   ]
  },
  {
   "cell_type": "code",
   "execution_count": 13,
   "id": "3107e8bb",
   "metadata": {},
   "outputs": [
    {
     "data": {
      "text/plain": [
       "False"
      ]
     },
     "execution_count": 13,
     "metadata": {},
     "output_type": "execute_result"
    }
   ],
   "source": [
    "# para saber si un elemento está dentro de una colección, empleamos la palabra reservada in\n",
    "\"Ferrari\" in automoviles ##En diccionarios actua sobre claves, no sobre valores"
   ]
  },
  {
   "cell_type": "markdown",
   "id": "461ede43",
   "metadata": {},
   "source": [
    "## Ejercicios\n",
    "\n",
    "1. Cargar este Notebook en GitHub y luego ejecutarlo en la plataforma https://mybinder.org/ o similar.\n",
    "2. Escribir un programa que almacene las asignaturas de una carrera (por ejemplo Programación, Ética, Base de datos, etc) en una lista y muestre por pantalla el listado.\n",
    "3. Modificar el programa anterior para que se almacenen las notas que obtuvo en cada asignatura. ¿Qué estructura de datos es más apropiada para esta tarea?.\n",
    "\n",
    "Nota: deben ejecutar desde el principio para que las celdas guarden los valores correspondientes en las variables.\n",
    "\n",
    "Autor: Ing. Lisandro Lanfranco"
   ]
  },
  {
   "cell_type": "markdown",
   "id": "ad330be6",
   "metadata": {},
   "source": [
    "## Fuentes:\n",
    "\n",
    "https://es.wikipedia.org/wiki/Python\n",
    "\n",
    "https://www.pythoncheatsheet.org/\n",
    "\n",
    "https://www.eugeniabahit.com/\n",
    "\n",
    "https://tutorial.recursospython.com/colecciones/"
   ]
  }
 ],
 "metadata": {
  "kernelspec": {
   "display_name": "Python 3 (ipykernel)",
   "language": "python",
   "name": "python3"
  },
  "language_info": {
   "codemirror_mode": {
    "name": "ipython",
    "version": 3
   },
   "file_extension": ".py",
   "mimetype": "text/x-python",
   "name": "python",
   "nbconvert_exporter": "python",
   "pygments_lexer": "ipython3",
   "version": "3.8.10"
  }
 },
 "nbformat": 4,
 "nbformat_minor": 5
}
