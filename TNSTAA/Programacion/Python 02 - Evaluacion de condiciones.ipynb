{
 "cells": [
  {
   "cell_type": "markdown",
   "id": "fe7317bc",
   "metadata": {},
   "source": [
    "![Logo ISPC](figs/logo_ispc.png)\n",
    "\n",
    "# Programación"
   ]
  },
  {
   "cell_type": "markdown",
   "id": "b65a1621",
   "metadata": {},
   "source": [
    "## Operadores de evaluación\n",
    "\n",
    "| **Operador** | **Operacion**     | **Ejemplo**                                       |\n",
    "|--------------|-------------------|---------------------------------------------------|\n",
    "| ==           | Igual a           | 2 == 3 <span style=\"color:red\">Falso</span>       |\n",
    "| !=           | No es igual a     | 2 != 3 <span style=\"color:green\">Verdadero</span> |\n",
    "| <            | Menor que         | 2 < 3 <span style=\"color:green\">Verdadero</span>  |\n",
    "| >            | Mayor que         | 2 > 3 <span style=\"color:red\">Falso</span>        |\n",
    "| <=           | Menor o igual que | 2 <= 3 <span style=\"color:green\">Verdadero</span> |\n",
    "| >=           | Mayor o igual que | 2 >= 3 <span style=\"color:red\">Falso</span>       |\n",
    "\n",
    "Estos operadores sirven para comparar valores o evaluar expresiones, por ejemplo:"
   ]
  },
  {
   "cell_type": "code",
   "execution_count": 1,
   "id": "8e050571",
   "metadata": {},
   "outputs": [
    {
     "data": {
      "text/plain": [
       "True"
      ]
     },
     "execution_count": 1,
     "metadata": {},
     "output_type": "execute_result"
    }
   ],
   "source": [
    "edad = 23 ## asignamos un valor a la variable edad\n",
    "## Notar que si usamos un solo signo igual el valor se asigna a la variable.\n",
    "## Es decir, la linea anterior guarda el valor 23 en edad.\n",
    "edad > 18 ## Luego evaluamos si es mayor a 18 años."
   ]
  },
  {
   "cell_type": "markdown",
   "id": "be8a9daa",
   "metadata": {},
   "source": [
    "Si el resultado de la evaluación es verdadero, Python devuelve el valor 'True'. Caso contrario el valor 'False'.\n",
    "\n"
   ]
  },
  {
   "cell_type": "code",
   "execution_count": 2,
   "id": "9bb0bc53",
   "metadata": {},
   "outputs": [
    {
     "data": {
      "text/plain": [
       "False"
      ]
     },
     "execution_count": 2,
     "metadata": {},
     "output_type": "execute_result"
    }
   ],
   "source": [
    "edad == 18 ## Cuando usamos dos signos igual, estamos comparando valores."
   ]
  },
  {
   "cell_type": "markdown",
   "id": "d0a160b6",
   "metadata": {},
   "source": [
    "Vemos que en la primer evaluación, edad contiene el valor 23, que es mayor que 18, por lo que el resultado es 'True'. En la segunda evaluación, edad no es igual a 18, por esto, el resultado de la evaluación es False.\n",
    "\n",
    "También se puede utilizar para evaluar Strings y en general cualquier condición que nos ayude a ejecutar secciones de programa."
   ]
  },
  {
   "cell_type": "code",
   "execution_count": 3,
   "id": "17573429",
   "metadata": {},
   "outputs": [
    {
     "data": {
      "text/plain": [
       "True"
      ]
     },
     "execution_count": 3,
     "metadata": {},
     "output_type": "execute_result"
    }
   ],
   "source": [
    "mascota = 'gato'\n",
    "mascota != 'perro'"
   ]
  },
  {
   "cell_type": "markdown",
   "id": "c85efbda",
   "metadata": {},
   "source": [
    "## Ejecución condicional\n",
    "\n",
    "Al evaluar condiciones, podemos ejecutar secciones de código usando la sentencia IF.\n",
    "En Python, como en otros lenguajes, se utiliza la sentencia IF y tiene la siguiente estructura\n",
    "\n",
    "![Sentencia_IF](figs/if.png)\n",
    "  \n",
    "También podemos utilizar una segunda sección que se ejecuta si la condición no se cumple, con la sentencia ELSE\n",
    "\n",
    "![Sentencia_IF_ELSE](figs/if_else.png)\n",
    "\n",
    "Veamos un ejemplo de un programa.\n",
    "\n",
    "En este esquema vemos que se ejecuta un segmento de código si el valor ingresado es mayor que 500 y otra sección si es menor.\n",
    "\n",
    "![Diagrama_IF](figs/diagrama_IF.png)"
   ]
  },
  {
   "cell_type": "code",
   "execution_count": null,
   "id": "ad1b8e40",
   "metadata": {},
   "outputs": [],
   "source": [
    "##Programa que determina el descuento dependiendo del valor de la compra.\n",
    "\n",
    "compra = int(input('Ingresa el valor de la compra')) ##Convertimos a entero el valor ingresado por el usuario\n",
    "\n",
    "if compra >= 500:  ##Comparamos el valor ingresado\n",
    "    print(\"Felicitaciones, obtuvo un descuento del 10%\")\n",
    "    pago = compra*0.9 ##Calculamos el descuento y lo almacenamos en compra\n",
    "    print(\"Ud. debe pagar $ \" + str(pago))\n",
    "    \n",
    "else:\n",
    "    print(\"Obtuvo un descuento del 5%\")\n",
    "    pago = compra*0.95 ##Calculamos el descuento y lo almacenamos en compra\n",
    "    print(\"Ud. debe pagar $ \" + str(pago))"
   ]
  },
  {
   "cell_type": "markdown",
   "id": "0c5a799c",
   "metadata": {},
   "source": [
    "## ELIF\n",
    "\n",
    "Podemos incluir la sentencia ELIF que sirve para evaluar una segunda condición en la misma estructura de IF.\n",
    "\n",
    "![IF_ELIF_ELSE](figs/if_elif_else.png)\n",
    "\n",
    "Escribir un programa que utilice la estructura de desición IF, ELIF y ELSE para obtener el descuento de acuerdo a las siguientes condiciones:\n",
    "\n",
    "1. Para compras menores a 500 no hay descuento.\n",
    "2. Compras entres 500 y 1000 descuento 5%.\n",
    "3. Compras mayores a 1000, descuento de 15%."
   ]
  },
  {
   "cell_type": "code",
   "execution_count": null,
   "id": "e758cc7f",
   "metadata": {},
   "outputs": [],
   "source": [
    "##Programa que determina el descuento dependiendo del valor de la compra.\n",
    "##-----------------------------------------------------------------------\n",
    "##  Completar\n",
    "##-----------------------------------------------------------------------\n",
    "\n",
    "\n",
    "compra = int(input('Ingresa el valor de la compra')) ##Convertimos a entero el valor ingresado por el usuario\n",
    "\n",
    "if compra >= 500:  ##Comparamos el valor ingresado\n",
    "    print(\"Felicitaciones, obtuvo un descuento del 10%\")\n",
    "    pago = compra*0.9 ##Calculamos el descuento y lo almacenamos en compra\n",
    "    print(\"Ud. debe pagar $ \" + str(pago))\n",
    "    \n",
    "elif _______ :\n",
    "    \n",
    "else:\n",
    "    print(\"Obtuvo un descuento del 5%\")\n",
    "    pago = compra*0.95 ##Calculamos el descuento y lo almacenamos en compra\n",
    "    print(\"Ud. debe pagar $ \" + str(pago))"
   ]
  },
  {
   "cell_type": "markdown",
   "id": "461ede43",
   "metadata": {},
   "source": [
    "## Ejercicios\n",
    "\n",
    "1. Cargar este Notebook en GitHub y luego ejecutarlo en la plataforma https://mybinder.org/ o similar.\n",
    "2. Dibujar un diagrama de flujo para la estructura IF, ELIF y ELSE.\n",
    "3. Escriba un programa que pregunte primero si se quiere calcular el área de un triángulo o la de un círculo. Si se contesta que se quiere calcular el área de un triángulo (escribiendo T), el programa tiene que pedir entonces la base y la altura y escribir el área. Si se contesta que se quiere calcular el área de un círculo (escribiendo C), el programa tiene que pedir entonces el radio y escribir el área.\n",
    "    * Se recuerda que el área de un triángulo es base por altura dividido por 2 y que el área de un círculo es Pi (aproximadamente 3,141592) por el radio al cuadrado.\n",
    "    * Nota: Utilice como valor de pi el valor 3.141592.\n",
    "\n",
    "Nota: deben ejecutar desde el principio para que las celdas guarden los valores correspondientes en las variables.\n",
    "\n",
    "Autor: Ing. Lisandro Lanfranco"
   ]
  },
  {
   "cell_type": "markdown",
   "id": "ad330be6",
   "metadata": {},
   "source": [
    "## Fuentes:\n",
    "\n",
    "https://es.wikipedia.org/wiki/Python\n",
    "\n",
    "https://www.pythoncheatsheet.org/\n",
    "\n",
    "https://www.tablesgenerator.com/markdown_tables\n",
    "\n",
    "https://www.mclibre.org/consultar/python/ejercicios/ej-if-else.html"
   ]
  }
 ],
 "metadata": {
  "kernelspec": {
   "display_name": "Python 3 (ipykernel)",
   "language": "python",
   "name": "python3"
  },
  "language_info": {
   "codemirror_mode": {
    "name": "ipython",
    "version": 3
   },
   "file_extension": ".py",
   "mimetype": "text/x-python",
   "name": "python",
   "nbconvert_exporter": "python",
   "pygments_lexer": "ipython3",
   "version": "3.8.10"
  }
 },
 "nbformat": 4,
 "nbformat_minor": 5
}
